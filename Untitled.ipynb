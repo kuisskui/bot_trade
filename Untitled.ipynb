{
 "cells": [
  {
   "cell_type": "code",
   "execution_count": 1,
   "id": "8bf712f9-347b-4519-8c9f-d0e9d4736e76",
   "metadata": {
    "ExecuteTime": {
     "end_time": "2024-09-29T08:12:13.294606Z",
     "start_time": "2024-09-29T08:12:13.034045Z"
    }
   },
   "outputs": [],
   "source": [
    "import mt5_api as mt5\n",
    "from datetime import datetime"
   ]
  },
  {
   "cell_type": "code",
   "execution_count": 2,
   "id": "08c4b11f-adde-4cef-99a8-fbd384336374",
   "metadata": {
    "ExecuteTime": {
     "end_time": "2024-09-29T08:12:15.456185Z",
     "start_time": "2024-09-29T08:12:15.445775Z"
    }
   },
   "outputs": [
    {
     "data": {
      "text/plain": [
       "True"
      ]
     },
     "execution_count": 2,
     "metadata": {},
     "output_type": "execute_result"
    }
   ],
   "source": [
    "mt5.initialize()"
   ]
  },
  {
   "cell_type": "code",
   "execution_count": 11,
   "id": "d680b1e1-32df-48b6-b14e-26eef40bf080",
   "metadata": {
    "ExecuteTime": {
     "end_time": "2024-09-29T08:12:17.202369Z",
     "start_time": "2024-09-29T08:12:17.143747Z"
    }
   },
   "outputs": [],
   "source": [
    "from_date=datetime(2024,9,29)\n",
    "to_date=datetime.now()\n",
    "history_orders=mt5.mt.history_orders_get(from_date, to_date, group=\"BTCUSD\")"
   ]
  },
  {
   "cell_type": "code",
   "execution_count": 15,
   "id": "8d3e697e-44dc-4cc7-9ab1-e754f77b49c7",
   "metadata": {},
   "outputs": [],
   "source": [
    "order_send_result = mt5.place_trade('BTCUSD', 0.1, 'buy')"
   ]
  },
  {
   "cell_type": "code",
   "execution_count": 25,
   "id": "7b6c729c-2cf3-4c57-b951-9103c7b0866d",
   "metadata": {},
   "outputs": [],
   "source": [
    "position = mt5.positions_get()"
   ]
  },
  {
   "cell_type": "code",
   "execution_count": null,
   "id": "169755fe-b7ff-40a7-a11b-2d2e32f3d37f",
   "metadata": {},
   "outputs": [],
   "source": [
    "order = mt5.order"
   ]
  },
  {
   "cell_type": "code",
   "execution_count": 19,
   "id": "9922f3cd-0b8c-4f0b-a3d1-9ffe3cc14db9",
   "metadata": {},
   "outputs": [
    {
     "name": "stdout",
     "output_type": "stream",
     "text": [
      "OrderSendResult(retcode=10009, deal=629628654, order=860147645, volume=0.1, price=65679.45, bid=65665.04000000001, ask=65679.45, comment='Python trade scr', request_id=3115498669, retcode_external=0, request=TradeRequest(action=1, magic=234000, order=0, symbol='BTCUSD', volume=0.1, price=65679.45, stoplimit=0.0, sl=0.0, tp=0.0, deviation=20, type=0, type_filling=1, type_time=0, expiration=0, comment='Python trade script', position=0, position_by=0))\n"
     ]
    }
   ],
   "source": [
    "print(order_send_result)"
   ]
  },
  {
   "cell_type": "code",
   "execution_count": 26,
   "id": "7875514b-be23-4728-97ba-fa218e4c93e0",
   "metadata": {},
   "outputs": [
    {
     "name": "stdout",
     "output_type": "stream",
     "text": [
      "(TradePosition(ticket=860147645, time=1727602417, time_msc=1727602417921, time_update=1727602417, time_update_msc=1727602417921, type=0, magic=234000, identifier=860147645, reason=3, volume=0.1, price_open=65679.45, sl=0.0, tp=0.0, price_current=65661.6, swap=0.0, profit=-1.79, symbol='BTCUSD', comment='Python trade scr', external_id=''),)\n"
     ]
    }
   ],
   "source": [
    "print(position.__repr__())"
   ]
  },
  {
   "cell_type": "code",
   "execution_count": 6,
   "id": "1f7a938c-4128-413e-803e-60c08f9a7d0c",
   "metadata": {},
   "outputs": [
    {
     "name": "stdout",
     "output_type": "stream",
     "text": [
      "True\n"
     ]
    }
   ],
   "source": [
    "s = mt5.symbol_select('BTCUSD', enable=True)\n",
    "print(s)"
   ]
  },
  {
   "cell_type": "code",
   "execution_count": 7,
   "id": "9dd2d1be-f15a-4f68-a515-ce1d538343fd",
   "metadata": {},
   "outputs": [
    {
     "name": "stdout",
     "output_type": "stream",
     "text": [
      "True\n"
     ]
    }
   ],
   "source": [
    "s = mt5.symbol_select('ETHUSD', enable=True)\n",
    "print(s)"
   ]
  },
  {
   "cell_type": "code",
   "execution_count": 8,
   "id": "af4f9d67-05dc-483f-9814-6f48a63dfc78",
   "metadata": {},
   "outputs": [
    {
     "name": "stdout",
     "output_type": "stream",
     "text": [
      "True\n"
     ]
    }
   ],
   "source": [
    "s = mt5.symbol_select('LTCUSD', enable=True)\n",
    "print(s)"
   ]
  },
  {
   "cell_type": "code",
   "execution_count": 9,
   "id": "531c1954-08c5-46a0-bc98-3772e3f9adcc",
   "metadata": {},
   "outputs": [
    {
     "name": "stdout",
     "output_type": "stream",
     "text": [
      "True\n"
     ]
    }
   ],
   "source": [
    "s = mt5.symbol_select('BTCZAR', enable=True)\n",
    "print(s)"
   ]
  },
  {
   "cell_type": "code",
   "execution_count": 10,
   "id": "d69385c3-cdad-441d-94c9-b24b8ff63217",
   "metadata": {},
   "outputs": [
    {
     "name": "stdout",
     "output_type": "stream",
     "text": [
      "True\n"
     ]
    }
   ],
   "source": [
    "s = mt5.symbol_select('BTCTHB', enable=True)\n",
    "print(s)"
   ]
  },
  {
   "cell_type": "code",
   "execution_count": 12,
   "id": "37ce3022-bce5-4b2f-8fc0-4bcb0d87abbe",
   "metadata": {},
   "outputs": [
    {
     "name": "stdout",
     "output_type": "stream",
     "text": [
      "True\n"
     ]
    }
   ],
   "source": [
    "s = mt5.symbol_select('BTCJPY', enable=True)\n",
    "print(s)"
   ]
  },
  {
   "cell_type": "code",
   "execution_count": 15,
   "id": "ed229325-062e-4b02-bf34-09466e408826",
   "metadata": {},
   "outputs": [
    {
     "name": "stdout",
     "output_type": "stream",
     "text": [
      "True\n"
     ]
    }
   ],
   "source": [
    "s = mt5.symbol_select('BTCXAU', enable=True)\n",
    "print(s)"
   ]
  },
  {
   "cell_type": "code",
   "execution_count": 14,
   "id": "47baef27-325d-48c9-8ebf-a00f194c1cfc",
   "metadata": {},
   "outputs": [
    {
     "name": "stdout",
     "output_type": "stream",
     "text": [
      "True\n"
     ]
    }
   ],
   "source": [
    "s = mt5.symbol_select('BTCAUD', enable=True)\n",
    "print(s)"
   ]
  },
  {
   "cell_type": "code",
   "execution_count": 13,
   "id": "1cd76281-fcd4-4932-aaa5-b4ba151237cb",
   "metadata": {},
   "outputs": [
    {
     "name": "stdout",
     "output_type": "stream",
     "text": [
      "True\n"
     ]
    }
   ],
   "source": [
    "s = mt5.symbol_select('BTCCNH', enable=True)\n",
    "print(s)"
   ]
  },
  {
   "cell_type": "code",
   "execution_count": 16,
   "id": "df9eca2a-a566-4c08-8e25-370df66d3d8b",
   "metadata": {},
   "outputs": [
    {
     "name": "stdout",
     "output_type": "stream",
     "text": [
      "True\n"
     ]
    }
   ],
   "source": [
    "s = mt5.symbol_select('BTCXAG', enable=True)\n",
    "print(s)"
   ]
  },
  {
   "cell_type": "code",
   "execution_count": 17,
   "id": "fa2168f6-a605-41ae-8a92-b8ed0ab50a75",
   "metadata": {},
   "outputs": [
    {
     "name": "stdout",
     "output_type": "stream",
     "text": [
      "True\n"
     ]
    }
   ],
   "source": [
    "s = mt5.symbol_select('BTCZAR', enable=True)\n",
    "print(s)"
   ]
  },
  {
   "cell_type": "code",
   "execution_count": 18,
   "id": "da2f23cb-b647-4671-9bc3-711be630195a",
   "metadata": {},
   "outputs": [
    {
     "name": "stdout",
     "output_type": "stream",
     "text": [
      "True\n"
     ]
    }
   ],
   "source": [
    "s = mt5.symbol_select('DOGEUSD', enable=True)\n",
    "print(s)"
   ]
  },
  {
   "cell_type": "code",
   "execution_count": 19,
   "id": "8e541a7e-5385-4d61-8d33-e83fae20f816",
   "metadata": {},
   "outputs": [
    {
     "name": "stdout",
     "output_type": "stream",
     "text": [
      "True\n"
     ]
    }
   ],
   "source": [
    "s = mt5.symbol_select('LINKUSD', enable=True)\n",
    "print(s)"
   ]
  },
  {
   "cell_type": "code",
   "execution_count": 20,
   "id": "0d03612c-cd70-4c06-b30a-b63ac84e2802",
   "metadata": {},
   "outputs": [
    {
     "name": "stdout",
     "output_type": "stream",
     "text": [
      "True\n"
     ]
    }
   ],
   "source": [
    "s = mt5.symbol_select('IOSTUSD', enable=True)\n",
    "print(s)"
   ]
  },
  {
   "cell_type": "code",
   "execution_count": 21,
   "id": "ea72f5ce-5269-4963-b2e0-05c806ab0aad",
   "metadata": {},
   "outputs": [
    {
     "name": "stdout",
     "output_type": "stream",
     "text": [
      "True\n"
     ]
    }
   ],
   "source": [
    "s = mt5.symbol_select('XRPUSD', enable=True)\n",
    "print(s)"
   ]
  },
  {
   "cell_type": "code",
   "execution_count": 22,
   "id": "49fb30ff-54af-4010-9d54-2b783332caf9",
   "metadata": {},
   "outputs": [
    {
     "name": "stdout",
     "output_type": "stream",
     "text": [
      "True\n"
     ]
    }
   ],
   "source": [
    "s = mt5.symbol_select('BCHUSD', enable=True)\n",
    "print(s)"
   ]
  },
  {
   "cell_type": "code",
   "execution_count": 23,
   "id": "61cc7cad-0cba-4068-a666-40661c19aef7",
   "metadata": {},
   "outputs": [
    {
     "name": "stdout",
     "output_type": "stream",
     "text": [
      "True\n"
     ]
    }
   ],
   "source": [
    "s = mt5.symbol_select('BTCKRW', enable=True)\n",
    "print(s)"
   ]
  }
 ],
 "metadata": {
  "kernelspec": {
   "display_name": "Python 3 (ipykernel)",
   "language": "python",
   "name": "python3"
  },
  "language_info": {
   "codemirror_mode": {
    "name": "ipython",
    "version": 3
   },
   "file_extension": ".py",
   "mimetype": "text/x-python",
   "name": "python",
   "nbconvert_exporter": "python",
   "pygments_lexer": "ipython3",
   "version": "3.12.6"
  }
 },
 "nbformat": 4,
 "nbformat_minor": 5
}
